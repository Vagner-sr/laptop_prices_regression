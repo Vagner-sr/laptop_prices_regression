{
 "cells": [
  {
   "cell_type": "code",
   "execution_count": 45,
   "metadata": {},
   "outputs": [],
   "source": [
    "import pandas as pd\n",
    "import numpy as np \n",
    "import seaborn as sns\n",
    "import matplotlib.pyplot as plt \n",
    "from sklearn.preprocessing import StandardScaler\n",
    "from sklearn.metrics import mean_absolute_error, mean_squared_error, accuracy_score\n",
    "from sklearn.ensemble import RandomForestRegressor\n",
    "from sklearn.model_selection import train_test_split, RandomizedSearchCV, GridSearchCV\n",
    "from xgboost import XGBRegressor\n"
   ]
  },
  {
   "cell_type": "code",
   "execution_count": 16,
   "id": "a97f04a2",
   "metadata": {},
   "outputs": [],
   "source": [
    "df_raw = pd.read_csv('../data/laptop_price.csv', encoding='latin-1')\n",
    "df1 = df_raw.copy()"
   ]
  },
  {
   "cell_type": "code",
   "execution_count": 17,
   "id": "1dc7a240",
   "metadata": {},
   "outputs": [],
   "source": [
    "df1.columns = df1.columns.str.lower()\n",
    "df1 = df1.drop(columns=['laptop_id', 'product'], index=1)"
   ]
  },
  {
   "cell_type": "code",
   "execution_count": 18,
   "id": "c5ba54b3",
   "metadata": {},
   "outputs": [],
   "source": [
    "# Screen --------------------------------------------------------------\n",
    "df1['screenresolution'] = df1['screenresolution'].str.split(\" \").str[-1]\n",
    "df1['screen_width'] = df1['screenresolution'].str.split('x').str[0].astype('float64')\n",
    "df1['screen_height'] = df1['screenresolution'].str.split('x').str[1].astype('float64')\n",
    "df1 = df1.drop('screenresolution', axis=1)\n",
    "\n",
    "# Cpu -----------------------------------------------------------------\n",
    "df1['cpu_brand'] = df1['cpu'].str.split(\" \").str[0]\n",
    "df1['cpu_frequency'] = df1['cpu'].str.split(\" \").str[-1]\n",
    "df1['cpu_frequency'] = df1['cpu_frequency'].str[:-3].astype('float64')\n",
    "df1 = df1.drop('cpu', axis=1)\n",
    "\n",
    "# Ram -----------------------------------------------------------------\n",
    "df1['ram'] = df1['ram'].str[:-2].astype('float64')\n",
    "\n",
    "# Memory --------------------------------------------------------------\n",
    "df1['memory_amount'] = df1['memory'].str.split(\" \").str[0]\n",
    "df1['memory_type'] = df1['memory'].str.split(\" \").str[1]\n",
    "\n",
    "def turn_memory_into_mb(value):\n",
    "    if \"GB\" in value:\n",
    "        return float(value[:value.find('GB')]) * 1000\n",
    "    else:\n",
    "        return float(value[:value.find(\"TB\")]) * 1000000\n",
    "\n",
    "df1['memory_amount'] = df1['memory_amount'].apply(turn_memory_into_mb)\n",
    "df1 = df1.drop('memory', axis=1)\n",
    "\n",
    "# Gpu ------------------------------------------------------------------\n",
    "df1['gpu'] = df1['gpu'].str.split(\" \").str[0]\n",
    "\n",
    "# Weight ----------------------------------------------------------------\n",
    "df1['weight'] = df1['weight'].str[:-2].astype('float64')"
   ]
  },
  {
   "cell_type": "code",
   "execution_count": 19,
   "id": "17e96d65",
   "metadata": {},
   "outputs": [],
   "source": [
    "df1 = df1.join(pd.get_dummies(df1['company']).astype('int64'))\n",
    "df1 = df1.drop('company', axis=1)\n",
    "\n",
    "df1 = df1.join(pd.get_dummies(df1['typename']).astype('int64'))\n",
    "df1 = df1.drop('typename', axis=1)\n",
    "\n",
    "df1 = df1.join(pd.get_dummies(df1['gpu']).astype('int64'))\n",
    "df1 = df1.drop('gpu', axis=1)\n",
    "\n",
    "df1 = df1.join(pd.get_dummies(df1['opsys']).astype('int64'))\n",
    "df1 = df1.drop('opsys', axis=1)\n",
    "\n",
    "df1 = pd.get_dummies(df1, columns=['cpu_brand'], prefix=['cpu_brand'])\n",
    "\n",
    "df1 = df1.join(pd.get_dummies(df1['memory_type']).astype('int64'))\n",
    "df1 = df1.drop('memory_type', axis=1)\n",
    "\n",
    "\n",
    "df1 = df1.drop_duplicates()"
   ]
  },
  {
   "cell_type": "code",
   "execution_count": 20,
   "id": "fbb252c3",
   "metadata": {},
   "outputs": [],
   "source": [
    "correlations = df1.corr()['price_euros'].apply(abs).sort_values()\n",
    "best_correlations = list(correlations[-24:].index)\n",
    "\n",
    "best_correlations_df = df1[best_correlations]\n",
    "\n",
    "#plt.figure(figsize=(18,10))\n",
    "#sns.heatmap(best_correlations_df.corr(), annot=True, cmap='YlGnBu')\n"
   ]
  },
  {
   "cell_type": "code",
   "execution_count": 21,
   "id": "33ff3f32",
   "metadata": {},
   "outputs": [],
   "source": [
    "x = best_correlations_df.drop('price_euros', axis=1)\n",
    "y = best_correlations_df['price_euros']\n",
    "\n",
    "x_train, x_test, y_train, y_test = train_test_split(x, y, test_size=0.15, random_state=42)\n",
    "\n",
    "scaler = StandardScaler()\n",
    "\n",
    "x_train_scaled = scaler.fit_transform(x_train)\n",
    "x_test_scaled = scaler.transform(x_test)\n"
   ]
  },
  {
   "cell_type": "code",
   "execution_count": 22,
   "id": "c49c1d0a",
   "metadata": {},
   "outputs": [],
   "source": [
    "def mean_absolute_percentage_error(y, yhat):\n",
    "    return np.mean( np.abs( (y - yhat) / y ) )"
   ]
  },
  {
   "cell_type": "code",
   "execution_count": 23,
   "id": "23c4ecf9",
   "metadata": {},
   "outputs": [],
   "source": [
    "def ml_error(model_name, y, yhat, score):\n",
    "    mae = mean_absolute_error(y, yhat).round(2)\n",
    "    mape = mean_absolute_percentage_error(y, yhat)\n",
    "    rmse = mean_squared_error(y, yhat)\n",
    "    \n",
    "    return pd.DataFrame({'MODEL_NAME': model_name,\n",
    "                         'MAE': mae,\n",
    "                         'MAPE': mape,\n",
    "                         'RMSE': rmse,\n",
    "                         'SCORE': score}, index=[0])"
   ]
  },
  {
   "cell_type": "code",
   "execution_count": 32,
   "id": "df62677a",
   "metadata": {},
   "outputs": [
    {
     "data": {
      "text/html": [
       "<div>\n",
       "<style scoped>\n",
       "    .dataframe tbody tr th:only-of-type {\n",
       "        vertical-align: middle;\n",
       "    }\n",
       "\n",
       "    .dataframe tbody tr th {\n",
       "        vertical-align: top;\n",
       "    }\n",
       "\n",
       "    .dataframe thead th {\n",
       "        text-align: right;\n",
       "    }\n",
       "</style>\n",
       "<table border=\"1\" class=\"dataframe\">\n",
       "  <thead>\n",
       "    <tr style=\"text-align: right;\">\n",
       "      <th></th>\n",
       "      <th>MODEL_NAME</th>\n",
       "      <th>MAE</th>\n",
       "      <th>MAPE</th>\n",
       "      <th>RMSE</th>\n",
       "      <th>SCORE</th>\n",
       "    </tr>\n",
       "  </thead>\n",
       "  <tbody>\n",
       "    <tr>\n",
       "      <th>0</th>\n",
       "      <td>Random_Forest</td>\n",
       "      <td>175.09</td>\n",
       "      <td>0.181632</td>\n",
       "      <td>77694.451444</td>\n",
       "      <td>0.802281</td>\n",
       "    </tr>\n",
       "  </tbody>\n",
       "</table>\n",
       "</div>"
      ],
      "text/plain": [
       "      MODEL_NAME     MAE      MAPE          RMSE     SCORE\n",
       "0  Random_Forest  175.09  0.181632  77694.451444  0.802281"
      ]
     },
     "execution_count": 32,
     "metadata": {},
     "output_type": "execute_result"
    }
   ],
   "source": [
    "forest = RandomForestRegressor(n_estimators=100, random_state=42)\n",
    "\n",
    "forest.fit(x_train_scaled, y_train)\n",
    "yhat_forest = forest.predict(x_test_scaled)\n",
    "\n",
    "score = forest.score(x_test_scaled, y_test)\n",
    "\n",
    "forest_result = ml_error('Random_Forest', y_test, yhat_forest, score)\n",
    "forest_result"
   ]
  },
  {
   "cell_type": "code",
   "execution_count": 36,
   "id": "56bc8221",
   "metadata": {},
   "outputs": [
    {
     "data": {
      "text/html": [
       "<style>#sk-container-id-1 {color: black;}#sk-container-id-1 pre{padding: 0;}#sk-container-id-1 div.sk-toggleable {background-color: white;}#sk-container-id-1 label.sk-toggleable__label {cursor: pointer;display: block;width: 100%;margin-bottom: 0;padding: 0.3em;box-sizing: border-box;text-align: center;}#sk-container-id-1 label.sk-toggleable__label-arrow:before {content: \"▸\";float: left;margin-right: 0.25em;color: #696969;}#sk-container-id-1 label.sk-toggleable__label-arrow:hover:before {color: black;}#sk-container-id-1 div.sk-estimator:hover label.sk-toggleable__label-arrow:before {color: black;}#sk-container-id-1 div.sk-toggleable__content {max-height: 0;max-width: 0;overflow: hidden;text-align: left;background-color: #f0f8ff;}#sk-container-id-1 div.sk-toggleable__content pre {margin: 0.2em;color: black;border-radius: 0.25em;background-color: #f0f8ff;}#sk-container-id-1 input.sk-toggleable__control:checked~div.sk-toggleable__content {max-height: 200px;max-width: 100%;overflow: auto;}#sk-container-id-1 input.sk-toggleable__control:checked~label.sk-toggleable__label-arrow:before {content: \"▾\";}#sk-container-id-1 div.sk-estimator input.sk-toggleable__control:checked~label.sk-toggleable__label {background-color: #d4ebff;}#sk-container-id-1 div.sk-label input.sk-toggleable__control:checked~label.sk-toggleable__label {background-color: #d4ebff;}#sk-container-id-1 input.sk-hidden--visually {border: 0;clip: rect(1px 1px 1px 1px);clip: rect(1px, 1px, 1px, 1px);height: 1px;margin: -1px;overflow: hidden;padding: 0;position: absolute;width: 1px;}#sk-container-id-1 div.sk-estimator {font-family: monospace;background-color: #f0f8ff;border: 1px dotted black;border-radius: 0.25em;box-sizing: border-box;margin-bottom: 0.5em;}#sk-container-id-1 div.sk-estimator:hover {background-color: #d4ebff;}#sk-container-id-1 div.sk-parallel-item::after {content: \"\";width: 100%;border-bottom: 1px solid gray;flex-grow: 1;}#sk-container-id-1 div.sk-label:hover label.sk-toggleable__label {background-color: #d4ebff;}#sk-container-id-1 div.sk-serial::before {content: \"\";position: absolute;border-left: 1px solid gray;box-sizing: border-box;top: 0;bottom: 0;left: 50%;z-index: 0;}#sk-container-id-1 div.sk-serial {display: flex;flex-direction: column;align-items: center;background-color: white;padding-right: 0.2em;padding-left: 0.2em;position: relative;}#sk-container-id-1 div.sk-item {position: relative;z-index: 1;}#sk-container-id-1 div.sk-parallel {display: flex;align-items: stretch;justify-content: center;background-color: white;position: relative;}#sk-container-id-1 div.sk-item::before, #sk-container-id-1 div.sk-parallel-item::before {content: \"\";position: absolute;border-left: 1px solid gray;box-sizing: border-box;top: 0;bottom: 0;left: 50%;z-index: -1;}#sk-container-id-1 div.sk-parallel-item {display: flex;flex-direction: column;z-index: 1;position: relative;background-color: white;}#sk-container-id-1 div.sk-parallel-item:first-child::after {align-self: flex-end;width: 50%;}#sk-container-id-1 div.sk-parallel-item:last-child::after {align-self: flex-start;width: 50%;}#sk-container-id-1 div.sk-parallel-item:only-child::after {width: 0;}#sk-container-id-1 div.sk-dashed-wrapped {border: 1px dashed gray;margin: 0 0.4em 0.5em 0.4em;box-sizing: border-box;padding-bottom: 0.4em;background-color: white;}#sk-container-id-1 div.sk-label label {font-family: monospace;font-weight: bold;display: inline-block;line-height: 1.2em;}#sk-container-id-1 div.sk-label-container {text-align: center;}#sk-container-id-1 div.sk-container {/* jupyter's `normalize.less` sets `[hidden] { display: none; }` but bootstrap.min.css set `[hidden] { display: none !important; }` so we also need the `!important` here to be able to override the default hidden behavior on the sphinx rendered scikit-learn.org. See: https://github.com/scikit-learn/scikit-learn/issues/21755 */display: inline-block !important;position: relative;}#sk-container-id-1 div.sk-text-repr-fallback {display: none;}</style><div id=\"sk-container-id-1\" class=\"sk-top-container\"><div class=\"sk-text-repr-fallback\"><pre>RandomForestRegressor(min_samples_split=4)</pre><b>In a Jupyter environment, please rerun this cell to show the HTML representation or trust the notebook. <br />On GitHub, the HTML representation is unable to render, please try loading this page with nbviewer.org.</b></div><div class=\"sk-container\" hidden><div class=\"sk-item\"><div class=\"sk-estimator sk-toggleable\"><input class=\"sk-toggleable__control sk-hidden--visually\" id=\"sk-estimator-id-1\" type=\"checkbox\" checked><label for=\"sk-estimator-id-1\" class=\"sk-toggleable__label sk-toggleable__label-arrow\">RandomForestRegressor</label><div class=\"sk-toggleable__content\"><pre>RandomForestRegressor(min_samples_split=4)</pre></div></div></div></div></div>"
      ],
      "text/plain": [
       "RandomForestRegressor(min_samples_split=4)"
      ]
     },
     "execution_count": 36,
     "metadata": {},
     "output_type": "execute_result"
    }
   ],
   "source": [
    "param_grid = {\n",
    "    'n_estimators': list(range(100,800,100)),\n",
    "    'max_depth': [None, 4, 8],\n",
    "    'min_samples_split': [2,4]\n",
    "}\n",
    "\n",
    "forest = RandomForestRegressor()\n",
    "\n",
    "grid_search = GridSearchCV(forest, param_grid, cv=5)\n",
    "grid_search.fit(x_train_scaled, y_train)\n",
    "\n",
    "grid_search.best_estimator_"
   ]
  },
  {
   "cell_type": "code",
   "execution_count": 37,
   "id": "23b75108",
   "metadata": {},
   "outputs": [
    {
     "data": {
      "text/html": [
       "<div>\n",
       "<style scoped>\n",
       "    .dataframe tbody tr th:only-of-type {\n",
       "        vertical-align: middle;\n",
       "    }\n",
       "\n",
       "    .dataframe tbody tr th {\n",
       "        vertical-align: top;\n",
       "    }\n",
       "\n",
       "    .dataframe thead th {\n",
       "        text-align: right;\n",
       "    }\n",
       "</style>\n",
       "<table border=\"1\" class=\"dataframe\">\n",
       "  <thead>\n",
       "    <tr style=\"text-align: right;\">\n",
       "      <th></th>\n",
       "      <th>MODEL_NAME</th>\n",
       "      <th>MAE</th>\n",
       "      <th>MAPE</th>\n",
       "      <th>RMSE</th>\n",
       "      <th>SCORE</th>\n",
       "    </tr>\n",
       "  </thead>\n",
       "  <tbody>\n",
       "    <tr>\n",
       "      <th>0</th>\n",
       "      <td>Forest_grid</td>\n",
       "      <td>175.61</td>\n",
       "      <td>0.185458</td>\n",
       "      <td>77429.879287</td>\n",
       "      <td>0.802954</td>\n",
       "    </tr>\n",
       "  </tbody>\n",
       "</table>\n",
       "</div>"
      ],
      "text/plain": [
       "    MODEL_NAME     MAE      MAPE          RMSE     SCORE\n",
       "0  Forest_grid  175.61  0.185458  77429.879287  0.802954"
      ]
     },
     "execution_count": 37,
     "metadata": {},
     "output_type": "execute_result"
    }
   ],
   "source": [
    "y_hat_forest_grid = grid_search.predict(x_test_scaled)\n",
    "score = grid_search.score(x_test_scaled, y_test )\n",
    "\n",
    "forest_grid_result = ml_error(\"Forest_grid\", y_test, y_hat_forest_grid, score)\n",
    "forest_grid_result"
   ]
  },
  {
   "cell_type": "code",
   "execution_count": 25,
   "id": "24cf6fe2",
   "metadata": {},
   "outputs": [
    {
     "data": {
      "text/html": [
       "<div>\n",
       "<style scoped>\n",
       "    .dataframe tbody tr th:only-of-type {\n",
       "        vertical-align: middle;\n",
       "    }\n",
       "\n",
       "    .dataframe tbody tr th {\n",
       "        vertical-align: top;\n",
       "    }\n",
       "\n",
       "    .dataframe thead th {\n",
       "        text-align: right;\n",
       "    }\n",
       "</style>\n",
       "<table border=\"1\" class=\"dataframe\">\n",
       "  <thead>\n",
       "    <tr style=\"text-align: right;\">\n",
       "      <th></th>\n",
       "      <th>MODEL_NAME</th>\n",
       "      <th>MAE</th>\n",
       "      <th>MAPE</th>\n",
       "      <th>RMSE</th>\n",
       "      <th>SCORE</th>\n",
       "    </tr>\n",
       "  </thead>\n",
       "  <tbody>\n",
       "    <tr>\n",
       "      <th>0</th>\n",
       "      <td>XGB</td>\n",
       "      <td>176.42</td>\n",
       "      <td>0.18402</td>\n",
       "      <td>78426.816859</td>\n",
       "      <td>0.800417</td>\n",
       "    </tr>\n",
       "  </tbody>\n",
       "</table>\n",
       "</div>"
      ],
      "text/plain": [
       "  MODEL_NAME     MAE     MAPE          RMSE     SCORE\n",
       "0        XGB  176.42  0.18402  78426.816859  0.800417"
      ]
     },
     "execution_count": 25,
     "metadata": {},
     "output_type": "execute_result"
    }
   ],
   "source": [
    "xgb = XGBRegressor()\n",
    "\n",
    "xgb.fit(x_train_scaled, y_train)\n",
    "yhat_xgb = xgb.predict(x_test_scaled)\n",
    "\n",
    "score = xgb.score(x_test_scaled, y_test)\n",
    "\n",
    "xgb_result = ml_error('XGB', y_test, yhat_xgb, score)\n",
    "xgb_result"
   ]
  },
  {
   "cell_type": "code",
   "execution_count": 48,
   "id": "9b815afc",
   "metadata": {},
   "outputs": [],
   "source": [
    "ensemble_mean = (yhat_forest + yhat_xgb + y_hat_forest_grid) / 3\n",
    "ensemble_results = ml_error('Ensemble_model', y_test, ensemble_mean, score )"
   ]
  },
  {
   "cell_type": "code",
   "execution_count": 49,
   "id": "13a12f1c",
   "metadata": {},
   "outputs": [
    {
     "data": {
      "text/html": [
       "<div>\n",
       "<style scoped>\n",
       "    .dataframe tbody tr th:only-of-type {\n",
       "        vertical-align: middle;\n",
       "    }\n",
       "\n",
       "    .dataframe tbody tr th {\n",
       "        vertical-align: top;\n",
       "    }\n",
       "\n",
       "    .dataframe thead th {\n",
       "        text-align: right;\n",
       "    }\n",
       "</style>\n",
       "<table border=\"1\" class=\"dataframe\">\n",
       "  <thead>\n",
       "    <tr style=\"text-align: right;\">\n",
       "      <th></th>\n",
       "      <th>MODEL_NAME</th>\n",
       "      <th>MAE</th>\n",
       "      <th>MAPE</th>\n",
       "      <th>RMSE</th>\n",
       "      <th>SCORE</th>\n",
       "    </tr>\n",
       "  </thead>\n",
       "  <tbody>\n",
       "    <tr>\n",
       "      <th>0</th>\n",
       "      <td>Ensemble_model</td>\n",
       "      <td>168.94</td>\n",
       "      <td>0.176882</td>\n",
       "      <td>72716.026381</td>\n",
       "      <td>0.802954</td>\n",
       "    </tr>\n",
       "    <tr>\n",
       "      <th>0</th>\n",
       "      <td>Forest_grid</td>\n",
       "      <td>175.61</td>\n",
       "      <td>0.185458</td>\n",
       "      <td>77429.879287</td>\n",
       "      <td>0.802954</td>\n",
       "    </tr>\n",
       "    <tr>\n",
       "      <th>0</th>\n",
       "      <td>Random_Forest</td>\n",
       "      <td>175.09</td>\n",
       "      <td>0.181632</td>\n",
       "      <td>77694.451444</td>\n",
       "      <td>0.802281</td>\n",
       "    </tr>\n",
       "    <tr>\n",
       "      <th>0</th>\n",
       "      <td>XGB</td>\n",
       "      <td>176.42</td>\n",
       "      <td>0.184020</td>\n",
       "      <td>78426.816859</td>\n",
       "      <td>0.800417</td>\n",
       "    </tr>\n",
       "  </tbody>\n",
       "</table>\n",
       "</div>"
      ],
      "text/plain": [
       "       MODEL_NAME     MAE      MAPE          RMSE     SCORE\n",
       "0  Ensemble_model  168.94  0.176882  72716.026381  0.802954\n",
       "0     Forest_grid  175.61  0.185458  77429.879287  0.802954\n",
       "0   Random_Forest  175.09  0.181632  77694.451444  0.802281\n",
       "0             XGB  176.42  0.184020  78426.816859  0.800417"
      ]
     },
     "execution_count": 49,
     "metadata": {},
     "output_type": "execute_result"
    }
   ],
   "source": [
    "models_result = pd.concat([forest_result, xgb_result, forest_grid_result, ensemble_results]).sort_values('RMSE')\n",
    "models_result"
   ]
  },
  {
   "cell_type": "code",
   "execution_count": 27,
   "id": "de0b3e92",
   "metadata": {},
   "outputs": [
    {
     "name": "stdout",
     "output_type": "stream",
     "text": [
      "A previsão é [1086.76]\n",
      "O realizado é 999.0\n"
     ]
    },
    {
     "name": "stderr",
     "output_type": "stream",
     "text": [
      "c:\\Users\\Admin\\AppData\\Local\\Programs\\Python\\Python311\\Lib\\site-packages\\sklearn\\base.py:465: UserWarning: X does not have valid feature names, but StandardScaler was fitted with feature names\n",
      "  warnings.warn(\n"
     ]
    }
   ],
   "source": [
    "testing = scaler.transform( [x_test.iloc[0]] )\n",
    "pred = forest.predict(testing)\n",
    "real = y_test.iloc[0]\n",
    "\n",
    "print('A previsão é {}'.format(pred))\n",
    "print('O realizado é {}'.format(real))"
   ]
  },
  {
   "cell_type": "code",
   "execution_count": 28,
   "id": "b3528b14",
   "metadata": {},
   "outputs": [
    {
     "data": {
      "text/plain": [
       "[<matplotlib.lines.Line2D at 0x20dfa36cf50>]"
      ]
     },
     "execution_count": 28,
     "metadata": {},
     "output_type": "execute_result"
    },
    {
     "data": {
      "image/png": "[encoded data removed]",
      "text/plain": [
       "<Figure size 1000x600 with 1 Axes>"
      ]
     },
     "metadata": {},
     "output_type": "display_data"
    }
   ],
   "source": [
    "ypred = forest.predict(x_test_scaled)\n",
    "\n",
    "plt.figure(figsize=(10,6))\n",
    "plt.scatter(ypred, y_test)\n",
    "plt.plot(range(0,3500), range(0,3500), c='red')"
   ]
  },
  {
   "cell_type": "code",
   "execution_count": null,
   "id": "77af4ecd",
   "metadata": {},
   "outputs": [],
   "source": []
  }
 ],
 "metadata": {
  "kernelspec": {
   "display_name": "Python 3",
   "language": "python",
   "name": "python3"
  },
  "language_info": {
   "codemirror_mode": {
    "name": "ipython",
    "version": 3
   },
   "file_extension": ".py",
   "mimetype": "text/x-python",
   "name": "python",
   "nbconvert_exporter": "python",
   "pygments_lexer": "ipython3",
   "version": "3.11.4"
  }
 },
 "nbformat": 4,
 "nbformat_minor": 5
}
